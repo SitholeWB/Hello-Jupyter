{
  "nbformat": 4,
  "nbformat_minor": 0,
  "metadata": {
    "colab": {
      "name": "Testing-Jupyter.ipynb",
      "version": "0.3.2",
      "provenance": [],
      "include_colab_link": true
    },
    "kernelspec": {
      "name": "python3",
      "display_name": "Python 3"
    }
  },
  "cells": [
    {
      "cell_type": "markdown",
      "metadata": {
        "id": "view-in-github",
        "colab_type": "text"
      },
      "source": [
        "<a href=\"https://colab.research.google.com/github/SitholeWB/Hello-Jupyter/blob/master/Testing_Jupyter.ipynb\" target=\"_parent\"><img src=\"https://colab.research.google.com/assets/colab-badge.svg\" alt=\"Open In Colab\"/></a>"
      ]
    },
    {
      "metadata": {
        "id": "w02ItnDwk-o7",
        "colab_type": "text"
      },
      "cell_type": "markdown",
      "source": [
        "**Hello Jupyter**"
      ]
    },
    {
      "metadata": {
        "id": "5IV__k6mlF_b",
        "colab_type": "code",
        "colab": {
          "base_uri": "https://localhost:8080/",
          "height": 34
        },
        "outputId": "2f18b9d3-93ed-4eab-dcc7-0a9cc4d81752"
      },
      "cell_type": "code",
      "source": [
        "print(\"Hello Jupyter!\")"
      ],
      "execution_count": 1,
      "outputs": [
        {
          "output_type": "stream",
          "text": [
            "Hello Jupyter!\n"
          ],
          "name": "stdout"
        }
      ]
    }
  ]
}